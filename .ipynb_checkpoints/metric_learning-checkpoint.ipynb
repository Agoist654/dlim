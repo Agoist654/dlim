{
 "cells": [
  {
   "cell_type": "markdown",
   "metadata": {
    "id": "7gJHXZ_wweQj"
   },
   "source": [
    "# DLIM Lab 2: Embeddings and metric learning\n",
    "Author: J. Chazalon  \n",
    "Revision: 20230927-1030\n"
   ]
  },
  {
   "cell_type": "markdown",
   "metadata": {
    "id": "LlJc6xZhEQ0z"
   },
   "source": [
    "# Introduction\n"
   ]
  },
  {
   "cell_type": "markdown",
   "metadata": {
    "id": "V6MUhq9eO_Oc"
   },
   "source": [
    "## Context and references\n",
    "Face verification, i.e. the process of automatically deciding whether two pictures of a face represent the same identity, is an interesting machine learning problem as an introduction to few-shots learning. Also, many databases are available, making the problem suitable for an in-class study.\n",
    "\n",
    "We adapted here the Verification Subset of the Cross-Age Celebrity Dataset from Chen et. al (see references below) to ease its use, separate training, validation and test sets, and shuffle the test set.\n",
    "\n",
    "Reference publications:\n",
    "\n",
    "> Bor-Chun Chen, Chu-Song Chen, Winston H. Hsu. Cross-Age Reference Coding for Age-Invariant Face Recognition and Retrieval, ECCV 2014\n",
    "\n",
    "> Bor-Chun Chen, Chu-Song Chen, Winston H. Hsu. Face Recognition using Cross-Age Reference Coding with Cross-Age Celebrity Dataset, IEEE Transactions on Multimedia, 2015.\n",
    "\n",
    "For the code, we based our work on the great [facenet-pytorch](https://github.com/timesler/facenet-pytorch) project.\n"
   ]
  },
  {
   "cell_type": "markdown",
   "metadata": {
    "id": "VnqqMk4oPBzY"
   },
   "source": [
    "## Goal\n",
    "Your goal is to produce a system which takes as input two images (pictures of faces) and returns a decision telling whether these two images represent the same person (aka \"identity\") or not."
   ]
  },
  {
   "cell_type": "markdown",
   "metadata": {
    "id": "3Jv74SlFPC4C"
   },
   "source": [
    "## Dataset format\n",
    "This adapted dataset is split into 3 subsets:\n",
    "\n",
    "- `train/` directory: training set containing 3200 images pairs\n",
    "- `val/` directory: validation set containing 400 images pairs\n",
    "- `test/` directory: test set containing 400 images pairs\n",
    "\n",
    "Each subset as an equal number of positive (same identity) and negative (different identities) pairs.\n",
    "\n",
    "For each set the naming of the images have the following format: `NNNN_P.jpg` where\n",
    "\n",
    "- `NNNN` is a 4 digits number representing the pair ID within the current subset\n",
    "- `P` $\\in \\{0, 1\\}$ is the image ID (left or right image)\n",
    "\n",
    "**For the training and validation sets**, every two pairs is positive, and the other negative, i.e.:\n",
    "\n",
    "- if `NNNN` is even, then the pair is a positive example (same identity)\n",
    "- if `NNNN` is odd, then the pair is a negative example (different identities)\n",
    "\n",
    "For the test set only, pair IDs were randomized. For teachers, we made available a separate file named `CACD_VS_cropped_test_targets.npy` which contains a table mapping pair IDs to a boolean value indicating whether the current pair is positive or negative.\n"
   ]
  },
  {
   "cell_type": "code",
   "execution_count": 3,
   "metadata": {},
   "outputs": [
    {
     "name": "stdout",
     "output_type": "stream",
     "text": [
      "DLIM23_TP2_metric_learning_student.ipynb\n"
     ]
    }
   ],
   "source": [
    "!ls"
   ]
  },
  {
   "cell_type": "markdown",
   "metadata": {
    "id": "YA0_4vAsPG8F"
   },
   "source": [
    "\n",
    "## Image preprocessing and loading\n",
    "All images were produced by cropping the original dataset images using an implementation of MTCNN, and the images were aligned using landmarks and resized to the shape `(160, 160, 3)`. Each image is saved as an RGB JPEG image.\n",
    "\n",
    "When loading the images, appropriate preprocessing / normalization should be applied.\n",
    "The [facenet-pytorch](https://github.com/timesler/facenet-pytorch) implementation we used simply applies the following transforms sequentially:\n",
    "\n",
    "- convert to float32\n",
    "- convert to Tensor\n",
    "- center: `(image_tensor - 127.5) / 128.0`\n"
   ]
  },
  {
   "cell_type": "markdown",
   "metadata": {
    "id": "gWKXtgakPIUB"
   },
   "source": [
    "\n",
    "## Dataset license\n",
    "This adapted dataset version is for internal use only, and must not be redistributed."
   ]
  },
  {
   "cell_type": "markdown",
   "metadata": {
    "id": "wBICjfLkyHEW"
   },
   "source": [
    "# Installation and imports"
   ]
  },
  {
   "cell_type": "code",
   "execution_count": 1,
   "metadata": {
    "colab": {
     "base_uri": "https://localhost:8080/",
     "height": 0
    },
    "id": "541Jp5oAyD5v",
    "outputId": "e3238b8c-9f70-461c-e4a9-c0d5100d08ed"
   },
   "outputs": [
    {
     "name": "stdout",
     "output_type": "stream",
     "text": [
      "Collecting facenet-pytorch\n",
      "  Downloading facenet_pytorch-2.5.3-py3-none-any.whl (1.9 MB)\n",
      "\u001b[2K     \u001b[90m━━━━━━━━━━━━━━━━━━━━━━━━━━━━━━━━━━━━━━━━\u001b[0m \u001b[32m1.9/1.9 MB\u001b[0m \u001b[31m19.1 MB/s\u001b[0m eta \u001b[36m0:00:00\u001b[0m\n",
      "\u001b[?25hRequirement already satisfied: opencv-python-headless in /usr/local/lib/python3.10/dist-packages (4.8.0.76)\n",
      "Requirement already satisfied: numpy in /usr/local/lib/python3.10/dist-packages (1.23.5)\n",
      "Requirement already satisfied: matplotlib in /usr/local/lib/python3.10/dist-packages (3.7.1)\n",
      "Requirement already satisfied: scikit-learn in /usr/local/lib/python3.10/dist-packages (1.2.2)\n",
      "Requirement already satisfied: torchvision in /usr/local/lib/python3.10/dist-packages (0.15.2+cu118)\n",
      "Requirement already satisfied: requests in /usr/local/lib/python3.10/dist-packages (from facenet-pytorch) (2.31.0)\n",
      "Requirement already satisfied: pillow in /usr/local/lib/python3.10/dist-packages (from facenet-pytorch) (9.4.0)\n",
      "Requirement already satisfied: contourpy>=1.0.1 in /usr/local/lib/python3.10/dist-packages (from matplotlib) (1.1.0)\n",
      "Requirement already satisfied: cycler>=0.10 in /usr/local/lib/python3.10/dist-packages (from matplotlib) (0.11.0)\n",
      "Requirement already satisfied: fonttools>=4.22.0 in /usr/local/lib/python3.10/dist-packages (from matplotlib) (4.42.1)\n",
      "Requirement already satisfied: kiwisolver>=1.0.1 in /usr/local/lib/python3.10/dist-packages (from matplotlib) (1.4.5)\n",
      "Requirement already satisfied: packaging>=20.0 in /usr/local/lib/python3.10/dist-packages (from matplotlib) (23.1)\n",
      "Requirement already satisfied: pyparsing>=2.3.1 in /usr/local/lib/python3.10/dist-packages (from matplotlib) (3.1.1)\n",
      "Requirement already satisfied: python-dateutil>=2.7 in /usr/local/lib/python3.10/dist-packages (from matplotlib) (2.8.2)\n",
      "Requirement already satisfied: scipy>=1.3.2 in /usr/local/lib/python3.10/dist-packages (from scikit-learn) (1.11.2)\n",
      "Requirement already satisfied: joblib>=1.1.1 in /usr/local/lib/python3.10/dist-packages (from scikit-learn) (1.3.2)\n",
      "Requirement already satisfied: threadpoolctl>=2.0.0 in /usr/local/lib/python3.10/dist-packages (from scikit-learn) (3.2.0)\n",
      "Requirement already satisfied: torch==2.0.1 in /usr/local/lib/python3.10/dist-packages (from torchvision) (2.0.1+cu118)\n",
      "Requirement already satisfied: filelock in /usr/local/lib/python3.10/dist-packages (from torch==2.0.1->torchvision) (3.12.2)\n",
      "Requirement already satisfied: typing-extensions in /usr/local/lib/python3.10/dist-packages (from torch==2.0.1->torchvision) (4.5.0)\n",
      "Requirement already satisfied: sympy in /usr/local/lib/python3.10/dist-packages (from torch==2.0.1->torchvision) (1.12)\n",
      "Requirement already satisfied: networkx in /usr/local/lib/python3.10/dist-packages (from torch==2.0.1->torchvision) (3.1)\n",
      "Requirement already satisfied: jinja2 in /usr/local/lib/python3.10/dist-packages (from torch==2.0.1->torchvision) (3.1.2)\n",
      "Requirement already satisfied: triton==2.0.0 in /usr/local/lib/python3.10/dist-packages (from torch==2.0.1->torchvision) (2.0.0)\n",
      "Requirement already satisfied: cmake in /usr/local/lib/python3.10/dist-packages (from triton==2.0.0->torch==2.0.1->torchvision) (3.27.4.1)\n",
      "Requirement already satisfied: lit in /usr/local/lib/python3.10/dist-packages (from triton==2.0.0->torch==2.0.1->torchvision) (16.0.6)\n",
      "Requirement already satisfied: six>=1.5 in /usr/local/lib/python3.10/dist-packages (from python-dateutil>=2.7->matplotlib) (1.16.0)\n",
      "Requirement already satisfied: charset-normalizer<4,>=2 in /usr/local/lib/python3.10/dist-packages (from requests->facenet-pytorch) (3.2.0)\n",
      "Requirement already satisfied: idna<4,>=2.5 in /usr/local/lib/python3.10/dist-packages (from requests->facenet-pytorch) (3.4)\n",
      "Requirement already satisfied: urllib3<3,>=1.21.1 in /usr/local/lib/python3.10/dist-packages (from requests->facenet-pytorch) (2.0.4)\n",
      "Requirement already satisfied: certifi>=2017.4.17 in /usr/local/lib/python3.10/dist-packages (from requests->facenet-pytorch) (2023.7.22)\n",
      "Requirement already satisfied: MarkupSafe>=2.0 in /usr/local/lib/python3.10/dist-packages (from jinja2->torch==2.0.1->torchvision) (2.1.3)\n",
      "Requirement already satisfied: mpmath>=0.19 in /usr/local/lib/python3.10/dist-packages (from sympy->torch==2.0.1->torchvision) (1.3.0)\n",
      "Installing collected packages: facenet-pytorch\n",
      "Successfully installed facenet-pytorch-2.5.3\n"
     ]
    }
   ],
   "source": [
    "!pip install facenet-pytorch opencv-python-headless numpy matplotlib scikit-learn torchvision"
   ]
  },
  {
   "cell_type": "markdown",
   "metadata": {
    "id": "o-ERn3mOyWQv"
   },
   "source": [
    "# Dataset loading\n",
    "We provide you with tools to download and load the dataset easily and efficiently. You will have to understand how they work."
   ]
  },
  {
   "cell_type": "markdown",
   "metadata": {
    "id": "IoagXttbzfP7"
   },
   "source": [
    "#### ❓ Question\n",
    "The `CACDVSPairs` class below defines a dataset object. It contains 3 important methods:\n",
    "- `__init__`\n",
    "- `__getitem__ `\n",
    "- `__len__`\n",
    "\n",
    "**What is the use of each of these functions?**"
   ]
  },
  {
   "cell_type": "markdown",
   "metadata": {
    "id": "xDwfcTDjz1QY"
   },
   "source": [
    "*Write your anwser here.*"
   ]
  },
  {
   "cell_type": "code",
   "execution_count": 2,
   "metadata": {
    "id": "2oCEP0zmyUS3"
   },
   "outputs": [],
   "source": [
    "import os\n",
    "from typing import Any, Callable, Dict, List, Optional, Tuple\n",
    "from PIL import Image\n",
    "from torchvision.datasets.utils import check_integrity, download_and_extract_archive, verify_str_arg\n",
    "from torchvision.datasets.vision import VisionDataset\n",
    "import numpy as np\n",
    "\n",
    "class CACDVSPairs(VisionDataset):\n",
    "    \"\"\" CACD VS Dataset\n",
    "\n",
    "    Args:\n",
    "        root (string): Root directory of dataset where directory\n",
    "            ``cacd-vs-cropped`` exists or will be saved to if download is set to True.\n",
    "        split (string, optional): The image split to use. Can be one of ``train``, ``val``, ``test``.\n",
    "            Defaults to ``train``.\n",
    "        transform (callable, optional): A function/transform that  takes in an PIL image\n",
    "            and returns a transformed version. E.g, ``transforms.RandomRotation``\n",
    "        target_transform (callable, optional): A function/transform that takes in the\n",
    "            target and transforms it.\n",
    "        download (bool, optional): If true, downloads the dataset from the internet and\n",
    "            puts it in root directory. If dataset is already downloaded, it is not\n",
    "            downloaded again.\n",
    "\n",
    "    \"\"\"\n",
    "\n",
    "    base_folder = \"cacd-vs-cropped\"\n",
    "    archive_download_url_prefix = \"https://www.lrde.epita.fr/~jchazalo/SHARE/\"\n",
    "    archive_filename = \"CACD_VS_cropped_student.tar.gz\"\n",
    "    archive_checksum = \"8765744ccc3a015a5bdddfd705f779ac\"\n",
    "\n",
    "    splits_info: Dict[str, int] = {\"train\": 3200, \"val\": 400, \"test\": 400}\n",
    "\n",
    "    def __init__(\n",
    "        self,\n",
    "        root: str,\n",
    "        split: str = \"train\",\n",
    "        transform: Optional[Callable] = None,\n",
    "        target_transform: Optional[Callable] = None,\n",
    "        download: bool = False,\n",
    "        test_targets: str = None,\n",
    "    ) -> None:\n",
    "        super().__init__(os.path.join(root, self.base_folder), transform=transform, target_transform=target_transform)\n",
    "\n",
    "        self.split = verify_str_arg(split.lower(), \"split\", self.splits_info.keys())\n",
    "\n",
    "        self.data: List[Tuple[str, str]] = []  # list of pairs of image paths\n",
    "        self.targets: \"np.array[bool]\" | None = None  # pair_id -> True for positive cases, False otherwise\n",
    "\n",
    "        if download:\n",
    "            self.download()\n",
    "\n",
    "        if not self._check_integrity():\n",
    "            raise RuntimeError(\"Dataset not found or corrupted. You can use download=True to download it\")\n",
    "\n",
    "        # Load targets\n",
    "        if self.split in (\"train\", \"val\"):\n",
    "            # for train and val splits, even pair IDs are for positive cases, and odd for negative ones\n",
    "            self.targets = np.arange(self.splits_info[self.split]) % 2 == 0\n",
    "        else: # test set\n",
    "            if test_targets is not None:\n",
    "                if not check_integrity(test_targets, \"fa16b248c8a67f6a4d6b8bd6363ef6eb\"):\n",
    "                    raise ValueError(f\"'{test_targets}' file detected as corrupted. Not loading.\")\n",
    "                test_targets = np.load(test_targets)\n",
    "            else:\n",
    "                print(\"No targets provided for test set, using default values.\")\n",
    "                test_targets = np.zeros(400, dtype=bool)\n",
    "            self.targets = test_targets\n",
    "\n",
    "        # Load data (paths)\n",
    "        for pair_id in range(self.splits_info[self.split]):\n",
    "            self.data.append([self._get_path(self.split, pair_id, image_id) for image_id in range(2)])\n",
    "\n",
    "    def __getitem__(self, index: int) -> Tuple[Any, Any, bool]:\n",
    "        \"\"\"\n",
    "        Args:\n",
    "            index (int): Index\n",
    "\n",
    "        Returns:\n",
    "            tuple (tuple: (image1, image2), target) where target is `False` for different indentities and `True` for same identities.\n",
    "        \"\"\"\n",
    "        img1, img2 = self.data[index]\n",
    "        img1, img2 = self._loader(img1), self._loader(img2)\n",
    "        target = self.targets[index]\n",
    "\n",
    "        if self.transform is not None:\n",
    "            img1, img2 = self.transform(img1), self.transform(img2)\n",
    "\n",
    "        if self.target_transform is not None:\n",
    "            target = self.target_transform(target)\n",
    "\n",
    "        return (img1, img2), target\n",
    "\n",
    "\n",
    "    def _loader(self, path: str) -> Image.Image:\n",
    "        with open(path, \"rb\") as f:\n",
    "            img = Image.open(f)\n",
    "            return img.convert(\"RGB\")\n",
    "\n",
    "    def _check_integrity(self) -> bool:\n",
    "        # We do not check file integrity here, only paths\n",
    "        for split, split_len in self.splits_info.items():\n",
    "            for pair_id in range(split_len):\n",
    "                for image_id in range(2):\n",
    "                    file_path = self._get_path(split, pair_id, image_id)\n",
    "                    if not os.path.exists(file_path):\n",
    "                        print(f\"Cannot locate {file_path}\")\n",
    "                        return False\n",
    "        return True\n",
    "\n",
    "    def download(self) -> None:\n",
    "        if self._check_integrity():\n",
    "            print(\"Files already downloaded and verified\")\n",
    "            return\n",
    "        url = f\"{self.archive_download_url_prefix}{self.archive_filename}\"\n",
    "        download_and_extract_archive(url, self.root, filename=self.archive_filename, md5=self.archive_checksum)\n",
    "\n",
    "    def _get_path(self, subset:str, pair_id: int, image_id) -> str:\n",
    "        return os.path.join(self.root, subset, f\"{pair_id:04d}_{image_id}.jpg\")\n",
    "\n",
    "    def __len__(self) -> int:\n",
    "        return len(self.data)"
   ]
  },
  {
   "cell_type": "markdown",
   "metadata": {
    "id": "EPhHeRMY0Oez"
   },
   "source": [
    "Let us now now create this dataset object and observe the elements it contains."
   ]
  },
  {
   "cell_type": "code",
   "execution_count": 3,
   "metadata": {
    "colab": {
     "base_uri": "https://localhost:8080/",
     "height": 0
    },
    "id": "NimB-hQEyxJ0",
    "outputId": "4e247571-1f11-469f-fe9d-0379f294f769"
   },
   "outputs": [
    {
     "name": "stdout",
     "output_type": "stream",
     "text": [
      "Cannot locate /content/datasets/cacd-vs-cropped/train/0000_0.jpg\n",
      "Downloading https://www.lrde.epita.fr/~jchazalo/SHARE/CACD_VS_cropped_student.tar.gz to /content/datasets/cacd-vs-cropped/CACD_VS_cropped_student.tar.gz\n"
     ]
    },
    {
     "name": "stderr",
     "output_type": "stream",
     "text": [
      "100%|██████████| 28616272/28616272 [00:02<00:00, 10897416.51it/s]\n"
     ]
    },
    {
     "name": "stdout",
     "output_type": "stream",
     "text": [
      "Extracting /content/datasets/cacd-vs-cropped/CACD_VS_cropped_student.tar.gz to /content/datasets/cacd-vs-cropped\n"
     ]
    }
   ],
   "source": [
    "from facenet_pytorch import fixed_image_standardization\n",
    "from torchvision import transforms\n",
    "\n",
    "# Ensure we get clean, normalized tensors for each image\n",
    "transform = transforms.Compose([\n",
    "    np.float32,\n",
    "    transforms.ToTensor(),\n",
    "    fixed_image_standardization\n",
    "])\n",
    "\n",
    "# We can ask for the \"train\", \"val\" and \"test\" splits.\n",
    "dataset_train = CACDVSPairs(\"/content/datasets\", split=\"train\", download=True, transform=transform)"
   ]
  },
  {
   "cell_type": "markdown",
   "metadata": {
    "id": "JAa5meWV1NfX"
   },
   "source": [
    "#### ❓ Question\n",
    "Update the code of the cell below to display some useful properties of an item extracted from the dataset.\n",
    "\n",
    "**What is its structure? What are the shapes and data types of the tensors it contains?**\n"
   ]
  },
  {
   "cell_type": "markdown",
   "metadata": {
    "id": "PeoW3Kx31crv"
   },
   "source": [
    "*Write your anwser here.*"
   ]
  },
  {
   "cell_type": "code",
   "execution_count": 4,
   "metadata": {
    "colab": {
     "base_uri": "https://localhost:8080/",
     "height": 0
    },
    "id": "gKDGZn6g0mEy",
    "outputId": "a810bd46-833f-408b-ff9e-7011002ecf00"
   },
   "outputs": [
    {
     "data": {
      "text/plain": [
       "((tensor([[[ 0.0430,  0.1445,  0.2227,  ...,  0.3867,  0.3086,  0.2461],\n",
       "           [ 0.0977,  0.1680,  0.1914,  ...,  0.3867,  0.3398,  0.3086],\n",
       "           [ 0.1680,  0.1680,  0.1289,  ...,  0.3789,  0.3555,  0.3555],\n",
       "           ...,\n",
       "           [ 0.0977,  0.0820,  0.1133,  ..., -0.3086, -0.1211,  0.0273],\n",
       "           [ 0.1367,  0.1211,  0.1367,  ..., -0.3086, -0.1055,  0.0117],\n",
       "           [ 0.1992,  0.1758,  0.1836,  ..., -0.3242, -0.0977,  0.0195]],\n",
       "  \n",
       "          [[ 0.0430,  0.1523,  0.1914,  ...,  0.2852,  0.2148,  0.1523],\n",
       "           [ 0.0977,  0.1523,  0.1680,  ...,  0.2852,  0.2461,  0.2148],\n",
       "           [ 0.1523,  0.1523,  0.1055,  ...,  0.2773,  0.2617,  0.2617],\n",
       "           ...,\n",
       "           [-0.1133, -0.1289, -0.0977,  ..., -0.4570, -0.2695, -0.1211],\n",
       "           [-0.0742, -0.0898, -0.0742,  ..., -0.4570, -0.2617, -0.1289],\n",
       "           [-0.0117, -0.0352, -0.0273,  ..., -0.4727, -0.2383, -0.1211]],\n",
       "  \n",
       "          [[-0.0508,  0.0430,  0.0977,  ...,  0.1602,  0.1055,  0.0430],\n",
       "           [ 0.0039,  0.0508,  0.0508,  ...,  0.1602,  0.1367,  0.1055],\n",
       "           [ 0.0508,  0.0508, -0.0117,  ...,  0.1523,  0.1523,  0.1523],\n",
       "           ...,\n",
       "           [-0.3398, -0.3555, -0.3242,  ..., -0.5664, -0.3789, -0.2305],\n",
       "           [-0.3008, -0.3164, -0.3008,  ..., -0.5664, -0.3477, -0.2227],\n",
       "           [-0.2383, -0.2617, -0.2539,  ..., -0.5820, -0.3320, -0.2148]]]),\n",
       "  tensor([[[-0.0117, -0.0508, -0.1289,  ...,  0.3555,  0.4961,  0.5820],\n",
       "           [-0.0742, -0.0977, -0.1523,  ...,  0.2773,  0.3945,  0.4883],\n",
       "           [-0.1289, -0.1367, -0.1523,  ...,  0.1602,  0.2773,  0.3555],\n",
       "           ...,\n",
       "           [-0.5039, -0.5820, -0.6289,  ..., -0.2148, -0.1758, -0.1680],\n",
       "           [-0.4570, -0.5430, -0.6055,  ..., -0.2148, -0.1836, -0.1836],\n",
       "           [-0.4336, -0.5273, -0.5977,  ..., -0.2461, -0.2227, -0.2227]],\n",
       "  \n",
       "          [[-0.4805, -0.5195, -0.5742,  ..., -0.1445, -0.0273,  0.0586],\n",
       "           [-0.5430, -0.5664, -0.6055,  ..., -0.2227, -0.1133, -0.0352],\n",
       "           [-0.5820, -0.5898, -0.6055,  ..., -0.3398, -0.2305, -0.1523],\n",
       "           ...,\n",
       "           [-0.8008, -0.8789, -0.9414,  ..., -0.5977, -0.5742, -0.5664],\n",
       "           [-0.7695, -0.8555, -0.9414,  ..., -0.5977, -0.5820, -0.5820],\n",
       "           [-0.7461, -0.8398, -0.9336,  ..., -0.6289, -0.6211, -0.6211]],\n",
       "  \n",
       "          [[-0.9023, -0.9414, -0.9883,  ..., -0.6445, -0.5586, -0.4883],\n",
       "           [-0.9492, -0.9727, -0.9961,  ..., -0.7070, -0.6289, -0.5664],\n",
       "           [-0.9727, -0.9805, -0.9805,  ..., -0.8164, -0.7305, -0.6680],\n",
       "           ...,\n",
       "           [-0.8867, -0.9648, -0.9961,  ..., -0.9180, -0.9102, -0.9023],\n",
       "           [-0.8633, -0.9336, -0.9961,  ..., -0.9180, -0.9180, -0.9180],\n",
       "           [-0.8398, -0.9336, -0.9883,  ..., -0.9492, -0.9570, -0.9570]]])),\n",
       " True)"
      ]
     },
     "execution_count": 4,
     "metadata": {},
     "output_type": "execute_result"
    }
   ],
   "source": [
    "item0 = dataset_train[0]\n",
    "item0"
   ]
  },
  {
   "cell_type": "markdown",
   "metadata": {
    "id": "JZIV_fk71fjk"
   },
   "source": [
    "We can also try to display the images!\n",
    "\n",
    "This requires to:\n",
    "- create a view of it where channels are ordered last, instead of first in PyTorch (use the `.permute(1, 2, 0)` method)\n",
    "- copy the tensor to the CPU memory, if it is not already here (use the `.cpu()` or `.to(device)` methods)\n",
    "- convert it to numpy format (use the `.numpy()` method)\n",
    "\n",
    "#### 🚧 TODO\n",
    "\n",
    "**Update the code below to display the images contained in a dataset item and plot their histogram.**"
   ]
  },
  {
   "cell_type": "code",
   "execution_count": 6,
   "metadata": {
    "id": "uivvaXtE3KhF"
   },
   "outputs": [],
   "source": [
    "import matplotlib.pyplot as plt"
   ]
  },
  {
   "cell_type": "code",
   "execution_count": 5,
   "metadata": {
    "id": "CFMAqoVd2rzN"
   },
   "outputs": [],
   "source": [
    "# x0, x1, y = ...\n",
    "# plt.imshow(x0...); plt.show();\n",
    "# plt.imshow(x1...); plt.show();"
   ]
  },
  {
   "cell_type": "code",
   "execution_count": null,
   "metadata": {
    "id": "E00V7_Rc2rwm"
   },
   "outputs": [],
   "source": [
    "# We can also see that the images are properly normalized by displaying their histogram\n",
    "plt.figure()\n",
    "for chan in x0:  # FIXME copy to CPU and convert to numpy format\n",
    "  plt.hist(chan.flatten(), bins=50, alpha=0.5)"
   ]
  },
  {
   "cell_type": "markdown",
   "metadata": {
    "id": "QtqBWDb53w55"
   },
   "source": [
    "We can now prepare the efficient loading and stream of dataset items using a [DataLoader](https://pytorch.org/docs/stable/data.html#torch.utils.data.DataLoader)."
   ]
  },
  {
   "cell_type": "markdown",
   "metadata": {
    "id": "j2WcKzzzAzek"
   },
   "source": [
    "#### ❓ Question\n",
    "\n",
    "Try different values for batch_size and observe the effects on the shape of the elements yield by the DataLoader. Please note that bigger batch size can accelerate the processing. Also, at the end of this session, we will need to ensure that we have positive and negative samples in each batch (hence having a batch size >= 2 here).\n",
    "\n",
    "**What happens?**"
   ]
  },
  {
   "cell_type": "code",
   "execution_count": 10,
   "metadata": {
    "id": "dvBk6tyyzASV"
   },
   "outputs": [],
   "source": [
    "from torch.utils.data import DataLoader\n",
    "loader_train = DataLoader(dataset_train, batch_size=40, shuffle=False, sampler=None,\n",
    "           batch_sampler=None, num_workers=2, collate_fn=None,\n",
    "           pin_memory=False, drop_last=False, timeout=0,\n",
    "           worker_init_fn=None, prefetch_factor=2,\n",
    "           persistent_workers=False)"
   ]
  },
  {
   "cell_type": "code",
   "execution_count": 11,
   "metadata": {
    "colab": {
     "base_uri": "https://localhost:8080/",
     "height": 0
    },
    "id": "9KeJtY4aBUOk",
    "outputId": "196098ca-2c87-47b4-80f7-55529a89b57d"
   },
   "outputs": [
    {
     "data": {
      "text/plain": [
       "(torch.Size([40, 3, 160, 160]),\n",
       " torch.Size([40, 3, 160, 160]),\n",
       " tensor([ True, False,  True, False,  True, False,  True, False,  True, False,\n",
       "          True, False,  True, False,  True, False,  True, False,  True, False,\n",
       "          True, False,  True, False,  True, False,  True, False,  True, False,\n",
       "          True, False,  True, False,  True, False,  True, False,  True, False]))"
      ]
     },
     "execution_count": 11,
     "metadata": {},
     "output_type": "execute_result"
    }
   ],
   "source": [
    "# Check the output is correct\n",
    "(x0, x1), y = next(iter(loader_train))\n",
    "# You can display more information here if needed\n",
    "x0.shape, x1.shape, y"
   ]
  },
  {
   "cell_type": "markdown",
   "metadata": {
    "id": "2Jbvn3MMB69A"
   },
   "source": [
    "We can also iterate over the elements of the DataLoader, much alike what will be used in a training loop."
   ]
  },
  {
   "cell_type": "code",
   "execution_count": 12,
   "metadata": {
    "colab": {
     "base_uri": "https://localhost:8080/",
     "height": 0
    },
    "id": "ur7hQHfyBZ4R",
    "outputId": "6f156f0a-f2eb-4fab-a4c4-1e2617acb2c8"
   },
   "outputs": [
    {
     "name": "stdout",
     "output_type": "stream",
     "text": [
      "Batch 0\n",
      "\t 0 torch.Size([40, 3, 160, 160]) torch.float32\n",
      "\t 1 torch.Size([40, 3, 160, 160]) torch.float32\n",
      "\t torch.Size([40]) torch.bool tensor([ True, False,  True, False,  True, False,  True, False,  True, False,\n",
      "         True, False,  True, False,  True, False,  True, False,  True, False,\n",
      "         True, False,  True, False,  True, False,  True, False,  True, False,\n",
      "         True, False,  True, False,  True, False,  True, False,  True, False])\n",
      "\n",
      "Batch 1\n",
      "\t 0 torch.Size([40, 3, 160, 160]) torch.float32\n",
      "\t 1 torch.Size([40, 3, 160, 160]) torch.float32\n",
      "\t torch.Size([40]) torch.bool tensor([ True, False,  True, False,  True, False,  True, False,  True, False,\n",
      "         True, False,  True, False,  True, False,  True, False,  True, False,\n",
      "         True, False,  True, False,  True, False,  True, False,  True, False,\n",
      "         True, False,  True, False,  True, False,  True, False,  True, False])\n",
      "\n",
      "Batch 2\n",
      "\t 0 torch.Size([40, 3, 160, 160]) torch.float32\n",
      "\t 1 torch.Size([40, 3, 160, 160]) torch.float32\n",
      "\t torch.Size([40]) torch.bool tensor([ True, False,  True, False,  True, False,  True, False,  True, False,\n",
      "         True, False,  True, False,  True, False,  True, False,  True, False,\n",
      "         True, False,  True, False,  True, False,  True, False,  True, False,\n",
      "         True, False,  True, False,  True, False,  True, False,  True, False])\n",
      "\n"
     ]
    }
   ],
   "source": [
    "for batch_ndx, sample in enumerate(loader_train):\n",
    "    if batch_ndx > 2:  # Show the content of the first two batches only\n",
    "        break\n",
    "    print(\"Batch\", batch_ndx)\n",
    "    (sample), y = sample\n",
    "    for ii, tensor in enumerate(sample):\n",
    "        print(\"\\t\", ii, tensor.shape, tensor.dtype)\n",
    "    print(\"\\t\", y.shape, y.dtype, y)\n",
    "    print()"
   ]
  },
  {
   "cell_type": "markdown",
   "metadata": {
    "id": "4WOa0fk5DpaR"
   },
   "source": [
    "# Extract embeddings\n",
    "Now we will apply a pre-trained facenet to obtain useful embeddings.\n",
    "\n",
    "Using these embeddings, we'll be able to compare images quickly by measuring the similarity between these compact representations."
   ]
  },
  {
   "cell_type": "markdown",
   "metadata": {
    "id": "fnDkkUgZEjNE"
   },
   "source": [
    "## Device placement\n",
    "A very important thing to understand with PyTorch is where memory is stored and code executed.\n",
    "Because we are using computation accelerators like GPU cards, we can explicitly move networks and variables (tensors) to different devices.\n",
    "\n",
    "The [torch.Tensor](https://pytorch.org/docs/stable/tensors.html] and the [torch.nn.Module](https://pytorch.org/docs/stable/generated/torch.nn.Module.html) classes expose the following useful methods:\n",
    "\n",
    "- [`.cpu()`](https://pytorch.org/docs/stable/generated/torch.Tensor.cpu.html#torch.Tensor.cpu) and [`.cuda()`](https://pytorch.org/docs/stable/generated/torch.Tensor.cuda.html#torch.Tensor.cuda) which are general copy-to-cpu or copy-to-cuda utilities\n",
    "- [`.to(device)`](https://pytorch.org/docs/stable/generated/torch.Tensor.to.html#torch.Tensor.to) which copies the object to a particular device\n",
    "\n",
    "We will now inspect the available devices."
   ]
  },
  {
   "cell_type": "code",
   "execution_count": 13,
   "metadata": {
    "colab": {
     "base_uri": "https://localhost:8080/",
     "height": 0
    },
    "id": "Ln48YkLTCNAj",
    "outputId": "0643773c-9ea4-4482-bfae-6535dcabbf9e"
   },
   "outputs": [
    {
     "name": "stdout",
     "output_type": "stream",
     "text": [
      "Running on device: cpu\n"
     ]
    }
   ],
   "source": [
    "import torch\n",
    "device = torch.device('cuda:0' if torch.cuda.is_available() else 'cpu')\n",
    "print('Running on device: {}'.format(device))"
   ]
  },
  {
   "cell_type": "markdown",
   "metadata": {
    "id": "0npPlV5_PM0Z"
   },
   "source": [
    "## Create a backbone\n",
    "\n",
    "It is now time to create the useful network: a ResNet backbone which will be used to convert image data to a compact representation.\n",
    "\n",
    "We define a factory function to create a new backbone, as we will create different architectures and do not want to share weights by accident between them: this is the case if we reuse a variable!"
   ]
  },
  {
   "cell_type": "code",
   "execution_count": 14,
   "metadata": {
    "colab": {
     "base_uri": "https://localhost:8080/",
     "height": 49,
     "referenced_widgets": [
      "c52888054f8548a9a2dd35c9b0385426",
      "7f162d6c92a246158af9abd016732ff9",
      "122d588ace0a432db8959f6bc67d9c75",
      "e335dc9b94284b51ab87edc72d8071d1",
      "f8fe798220fc42dcb6035ac956ec3915",
      "d009876ce99d400488b19e2c1d2f6261",
      "efbef71ee69b43c8a5f53c3aedbedf78",
      "768898b895be4bcfa94c2730e6177fd6",
      "64861f0613984ab0b91863f31bd723fe",
      "5b577623e02a4a67a6b8eda6a79f7667",
      "c3488a27b76c44c9a5c2f5d7d6d8f1fc"
     ]
    },
    "id": "Pa68XMhnO1fy",
    "outputId": "47111f90-4ce6-4bcb-c538-086f35a51e17"
   },
   "outputs": [
    {
     "data": {
      "application/vnd.jupyter.widget-view+json": {
       "model_id": "c52888054f8548a9a2dd35c9b0385426",
       "version_major": 2,
       "version_minor": 0
      },
      "text/plain": [
       "  0%|          | 0.00/107M [00:00<?, ?B/s]"
      ]
     },
     "metadata": {},
     "output_type": "display_data"
    }
   ],
   "source": [
    "from facenet_pytorch import InceptionResnetV1\n",
    "def new_backbone(device):\n",
    "  return InceptionResnetV1(\n",
    "    classify=False,\n",
    "    pretrained='vggface2'\n",
    ").to(device)\n",
    "\n",
    "resnet = new_backbone(device)\n",
    "# You can either print the object to see its structure\n",
    "# or use some fancier display tool like https://github.com/szagoruyko/pytorchviz\n",
    "# resnet"
   ]
  },
  {
   "cell_type": "markdown",
   "metadata": {
    "id": "izM4IqEbRu9R"
   },
   "source": [
    "## Make predictions with the backbone\n",
    "Let's predict some embeddings with our network!\n",
    "\n",
    "Warning! We need to feed it with tensors on the same device!"
   ]
  },
  {
   "cell_type": "markdown",
   "metadata": {
    "id": "J4JSf9yZRu6i"
   },
   "source": [
    "#### 🚧 TODO\n",
    "\n",
    "**Choose an appropriate [similarity or distance function](https://pytorch.org/docs/stable/nn.html#distance-functions) to compare the two embeddings, and complete the code below to print for several pairs of the training set: the similarity score, and whether this sample is positive or negative (target).**"
   ]
  },
  {
   "cell_type": "code",
   "execution_count": 16,
   "metadata": {
    "id": "FG5aGQbgSvYK"
   },
   "outputs": [],
   "source": [
    "from torch import nn"
   ]
  },
  {
   "cell_type": "code",
   "execution_count": null,
   "metadata": {
    "id": "rDW44rV0ThbI"
   },
   "outputs": [],
   "source": [
    "# STUDENT\n",
    "resnet.eval()  # disable layers like Dropout for simple inference\n",
    "for batch_ndx, sample in enumerate(loader_train):\n",
    "    if batch_ndx > 1:\n",
    "        break\n",
    "    (x0, x1), y = sample\n",
    "    y = y.numpy()\n",
    "    with torch.no_grad():\n",
    "      # this part is frozen\n",
    "      e0 =  ??? # FIXME apply the network on the first image\n",
    "      e1 =  ??? # FIXME apply the network on the second image\n",
    "      print(\"e0.shape\", e0.shape)\n",
    "    # select a similarity or distance function, and apply it to the two embeddings\n",
    "    # https://pytorch.org/docs/stable/nn.html#distance-functions\n",
    "    d = nn.????(e0, e1).cpu().numpy()  # FIXME\n",
    "    print(\"d.shape\", d.shape)\n",
    "for target, distance in zip(y, d):\n",
    "  print(target, distance)"
   ]
  },
  {
   "cell_type": "markdown",
   "metadata": {
    "id": "drlzOx8lUUlO"
   },
   "source": [
    "#### ❓ Question\n",
    "\n",
    "**Given the values you obtained, and the target prediction, does it seem possible to solve the problem?**"
   ]
  },
  {
   "cell_type": "markdown",
   "metadata": {
    "id": "Z3yDv5QnUday"
   },
   "source": [
    "*Write your anwser here.*"
   ]
  },
  {
   "cell_type": "markdown",
   "metadata": {
    "id": "aZb4QHewSsHZ"
   },
   "source": [
    "# Siamese network 1: Independant classifier\n",
    "We will now define a **Siamese network** to facilite our work.\n",
    "This particular version will be used to **compute similarity scores between image pairs**, in order to **train/apply a simple binary classification on top of it**.\n",
    "\n",
    "We will code several variants depending on the target use. In particular, we will play with two important things to accelerate our computations:\n",
    "\n",
    "- disable gradient recording using the `with toch.no_grad()` context manager (you can learn more about [locally disabling gradient computation](https://pytorch.org/docs/stable/notes/autograd.html#locally-disabling-gradient-computation) in the documentation)\n",
    "- enable or disable training mode with `.train()` or `.eval()` to change the behavior of several special layers like Dropout\n",
    "\n",
    "As a rule of a thumb, if we **do not want to perform any training on a network**, we want to **disable gradient computation** and **run in evaluation mode**."
   ]
  },
  {
   "cell_type": "markdown",
   "metadata": {
    "id": "Vej0z11vXK6M"
   },
   "source": [
    "## Architecture definition"
   ]
  },
  {
   "cell_type": "markdown",
   "metadata": {
    "id": "KsdAHg4UW2Ri"
   },
   "source": [
    "#### 🚧 TODO\n",
    "\n",
    "**Complete the code of the classe below to create a frozen Siamese network.**"
   ]
  },
  {
   "cell_type": "code",
   "execution_count": null,
   "metadata": {
    "id": "CtJPoW-yVto6"
   },
   "outputs": [],
   "source": [
    "#STUDENT\n",
    "class FrozenSiameseNet(nn.Module):\n",
    "  def __init__(self, base_network):\n",
    "    super().__init__()\n",
    "    self.base_network = base_network\n",
    "    # disable Dropout and others in the base network as it will be used for embedding only\n",
    "    self.base_network.eval()\n",
    "    self.similarity = ??? # FIXME add the layer from the previous question\n",
    "\n",
    "  def forward(self, x):\n",
    "    # IMPORTANT: our network take a single input, but this input is a tuple with two tensors!\n",
    "    x0, x1 = x\n",
    "    e0, e1 = None, None\n",
    "    with torch.no_grad():\n",
    "      # no gradients here\n",
    "      e0 = ???  # FIXME compute embedding for input 0\n",
    "      e1 = ???  # FIXME compute embedding for input 1\n",
    "    output = self.similarity(e0, e1)\n",
    "    return output"
   ]
  },
  {
   "cell_type": "code",
   "execution_count": 24,
   "metadata": {
    "id": "Cs5k4glJWBOf"
   },
   "outputs": [],
   "source": [
    "# Let's create our network\n",
    "sim_score_net = FrozenSiameseNet(new_backbone(device))\n",
    "sim_score_net.eval();  # We won't perform any training on the particular network"
   ]
  },
  {
   "cell_type": "markdown",
   "metadata": {
    "id": "tA5EWP4ZXIFo"
   },
   "source": [
    "## Compute similarities for each pair\n",
    "By computing the score for each pair in the training set, we will be able to create a proper training set for a manual classifier!\n",
    "\n",
    "In the code below, we:\n",
    "1. define new variables to store the similarities and the associated expected decisions\n",
    "2. run the network per batch to compute scores\n",
    "3. extract the individual predictions for each sample of each batch"
   ]
  },
  {
   "cell_type": "code",
   "execution_count": 25,
   "metadata": {
    "colab": {
     "base_uri": "https://localhost:8080/",
     "height": 0
    },
    "id": "k8YDY3IVWOZM",
    "outputId": "8a5ee562-fc5c-4404-971b-8ac69fc00c83"
   },
   "outputs": [
    {
     "name": "stdout",
     "output_type": "stream",
     "text": [
      "Batch 0 (0 / 3200)\n",
      "Batch 10 (400 / 3200)\n",
      "Batch 20 (800 / 3200)\n",
      "Batch 30 (1200 / 3200)\n",
      "Batch 40 (1600 / 3200)\n",
      "Batch 50 (2000 / 3200)\n",
      "Batch 60 (2400 / 3200)\n",
      "Batch 70 (2800 / 3200)\n"
     ]
    },
    {
     "data": {
      "text/plain": [
       "((3200,), (3200,))"
      ]
     },
     "execution_count": 25,
     "metadata": {},
     "output_type": "execute_result"
    }
   ],
   "source": [
    "similarities = np.zeros(len(dataset_train), dtype=np.float32)\n",
    "targets = np.zeros(len(dataset_train), dtype=bool)\n",
    "\n",
    "sample_id = 0\n",
    "for batch_ndx, sample in enumerate(loader_train):\n",
    "    # if batch_ndx > 3:\n",
    "    #     break\n",
    "    if sample_id % 400 == 0:\n",
    "      print(f\"Batch {batch_ndx} ({sample_id} / {len(dataset_train)})\")\n",
    "    (x_pair), y = sample\n",
    "    y = y.numpy()\n",
    "    scores = None\n",
    "    with torch.no_grad():  # optimization\n",
    "      # Note how we send the input pairs to the device here!\n",
    "      # ?? What is the shape of the scores variable below? Can you guess?\n",
    "      scores = sim_score_net([xi.to(device) for xi in x_pair]).cpu().numpy()\n",
    "    for distance, target in zip(scores, y):\n",
    "      similarities[sample_id] = distance\n",
    "      targets[sample_id] = target\n",
    "      sample_id += 1\n",
    "similarities.shape, targets.shape"
   ]
  },
  {
   "cell_type": "markdown",
   "metadata": {
    "id": "KN1YwaMyZJpT"
   },
   "source": [
    "#### ❓ Question\n",
    "\n",
    "**What is the shape of the scores variable below? Can you guess?**"
   ]
  },
  {
   "cell_type": "markdown",
   "metadata": {
    "id": "Lgn7_YVYYnao"
   },
   "source": [
    "*Write your anwser here.*"
   ]
  },
  {
   "cell_type": "markdown",
   "metadata": {
    "id": "CQRNwKJoZN18"
   },
   "source": [
    "OK, we got our data.\n",
    "\n",
    "Let's analyse it to find a suitable threshold.\n"
   ]
  },
  {
   "cell_type": "code",
   "execution_count": 26,
   "metadata": {
    "colab": {
     "base_uri": "https://localhost:8080/",
     "height": 472
    },
    "id": "uhWGpo6OZkfR",
    "outputId": "4b61375f-ca16-4171-9e3a-18b7e7ab96aa"
   },
   "outputs": [
    {
     "data": {
      "image/png": "[encoded data removed]",
      "text/plain": [
       "<Figure size 640x480 with 1 Axes>"
      ]
     },
     "metadata": {},
     "output_type": "display_data"
    }
   ],
   "source": [
    "# Extract the score for positive and negative samples\n",
    "score_match = similarities[targets]\n",
    "score_diffe = similarities[~targets]\n",
    "plt.hist(score_match, bins=50, label=\"Match\")\n",
    "plt.hist(score_diffe, bins=50, label=\"No Match\")\n",
    "plt.title(\"Distance distributions\")\n",
    "plt.xlabel(\"Similarity score\")\n",
    "plt.legend()\n",
    "plt.show()"
   ]
  },
  {
   "cell_type": "markdown",
   "metadata": {
    "id": "iwTeCQXRZvNE"
   },
   "source": [
    "In practice for face verification we want very low FPR.  \n",
    "The practice is to report TPR @ fixed FPR (like 0.01 or lower)\n",
    "\n",
    "The code below show a very simple way to find an appropriate threshold."
   ]
  },
  {
   "cell_type": "code",
   "execution_count": 27,
   "metadata": {
    "colab": {
     "base_uri": "https://localhost:8080/",
     "height": 472
    },
    "id": "eWBLO5XTZ2th",
    "outputId": "6ab52eeb-c67c-4380-ca0f-08a6bdb02e06"
   },
   "outputs": [
    {
     "data": {
      "image/png": "[encoded data removed]",
      "text/plain": [
       "<Figure size 640x480 with 1 Axes>"
      ]
     },
     "metadata": {},
     "output_type": "display_data"
    }
   ],
   "source": [
    "from sklearn.metrics import roc_curve, auc\n",
    "fpr, tpr, thresholds = roc_curve(targets, similarities)\n",
    "roc_auc = auc(fpr, tpr)\n",
    "plt.figure()\n",
    "plt.plot(fpr, tpr, label='ROC curve (area = %0.2f)' % roc_auc)\n",
    "plt.plot([0, 1], [0, 1], color='navy', linestyle='--')\n",
    "plt.xlim([0.0, 1.0])\n",
    "plt.ylim([0.0, 1.05])\n",
    "plt.xlabel('False Positive Rate')\n",
    "plt.ylabel('True Positive Rate')\n",
    "plt.title('Receiver operating characteristic on training set')\n",
    "plt.legend(loc=\"lower right\")\n",
    "plt.show()"
   ]
  },
  {
   "cell_type": "code",
   "execution_count": 28,
   "metadata": {
    "colab": {
     "base_uri": "https://localhost:8080/",
     "height": 472
    },
    "id": "rtfSTEAjaDqc",
    "outputId": "a2ce8324-9d0e-49f3-a35e-150f1e47abfc"
   },
   "outputs": [
    {
     "data": {
      "image/png": "[encoded data removed]",
      "text/plain": [
       "<Figure size 640x480 with 1 Axes>"
      ]
     },
     "metadata": {},
     "output_type": "display_data"
    }
   ],
   "source": [
    "# Zoom in the interesting part:\n",
    "plt.figure()\n",
    "plt.plot(fpr, tpr, label='ROC curve (area = %0.2f)' % roc_auc)\n",
    "plt.plot([0, 1], [0, 1], color='navy', linestyle='--')\n",
    "plt.xlim([0.0, 0.01])\n",
    "plt.ylim([0.0, 1.05])\n",
    "plt.xlabel('False Positive Rate')\n",
    "plt.ylabel('True Positive Rate')\n",
    "plt.title('ROC on training set (zoomed)')\n",
    "plt.legend(loc=\"lower right\")\n",
    "plt.show()"
   ]
  },
  {
   "cell_type": "code",
   "execution_count": 29,
   "metadata": {
    "colab": {
     "base_uri": "https://localhost:8080/"
    },
    "id": "BVG1KyjuaKcY",
    "outputId": "7cbea088-28c9-470e-8e30-e3a83a42bc09"
   },
   "outputs": [
    {
     "data": {
      "text/plain": [
       "(29, 0.97875, 0.38432318)"
      ]
     },
     "execution_count": 29,
     "metadata": {},
     "output_type": "execute_result"
    }
   ],
   "source": [
    "# Compute TPR and threshold to used to reach FPR=1%\n",
    "ind = np.searchsorted(fpr, 0.01)\n",
    "ind, tpr[ind], thresholds[ind]"
   ]
  },
  {
   "cell_type": "code",
   "execution_count": 30,
   "metadata": {
    "colab": {
     "base_uri": "https://localhost:8080/"
    },
    "id": "84MRCDafaOby",
    "outputId": "cbee6379-3b57-407f-b107-4b928107418d"
   },
   "outputs": [
    {
     "data": {
      "text/plain": [
       "(49, 0.98875, 0.29270637)"
      ]
     },
     "execution_count": 30,
     "metadata": {},
     "output_type": "execute_result"
    }
   ],
   "source": [
    "# Compute TPR and threshold to used to reach FPR=5%\n",
    "ind = np.searchsorted(fpr, 0.05)\n",
    "ind, tpr[ind], thresholds[ind]"
   ]
  },
  {
   "cell_type": "markdown",
   "metadata": {
    "id": "hmBSVMH-aQW1"
   },
   "source": [
    "We see here that we loose true positives quite quickly when getting closer to FPR = 0.\n",
    "\n",
    "For a threshold at 0.38, we get 1% FPR and 97.9% TPR: this seems acceptable for a non critical application."
   ]
  },
  {
   "cell_type": "markdown",
   "metadata": {
    "id": "Vi7NLK2PaZZI"
   },
   "source": [
    "## Simple classifier training\n",
    "We know how to train simple classifiers: let's use scikit-learn!"
   ]
  },
  {
   "cell_type": "markdown",
   "metadata": {
    "id": "2BfNNFw3a-5U"
   },
   "source": [
    "#### 🚧 TODO\n",
    "Using the `similarities` and `targets` variables previously defined, train a simple binary classified from scikit-learn and report its performance on the training set. You can also compute its performance on the validation set, but you will need to computes similarities and targets on this set too."
   ]
  },
  {
   "cell_type": "code",
   "execution_count": 31,
   "metadata": {
    "id": "CggMALh8aq4e"
   },
   "outputs": [],
   "source": [
    "# FIXME complete this code\n",
    "# from sklearn.??? import ???\n",
    "# ???.fit(???)\n",
    "# ???.score(???)"
   ]
  },
  {
   "cell_type": "markdown",
   "metadata": {
    "id": "U1OxT8Wxbdx2"
   },
   "source": [
    "# Siamese network 2: Contrastive loss\n",
    "\n",
    "Let us now build another architecture with the exact same structure, but removing the optimization to re-enable the training of the internal weights of the backbone network.\n",
    "\n",
    "Doing so, we will be able to leverage positive and negative examples from the training set with a custom loss function to optimize the representation for the final binary decision."
   ]
  },
  {
   "cell_type": "markdown",
   "metadata": {
    "id": "cmtd6P3PcyfL"
   },
   "source": [
    "## Architecture definition"
   ]
  },
  {
   "cell_type": "markdown",
   "metadata": {
    "id": "1wBbBcQRb-Rt"
   },
   "source": [
    "#### 🚧 TODO\n",
    "**Complete the code below, based on your previous implementation, removing any optimization which prevents training.**"
   ]
  },
  {
   "cell_type": "code",
   "execution_count": null,
   "metadata": {
    "id": "rRlO6PULcIn5"
   },
   "outputs": [],
   "source": [
    "# We need to unfreeze the backbone\n",
    "class SiameseNet(nn.Module):\n",
    "  def __init__(self, base_network):\n",
    "    super().__init__()\n",
    "    self.base_network = ???\n",
    "    self.cos = ???\n",
    "\n",
    "  def forward(self, x):\n",
    "    x0, x1 = x\n",
    "    e0, e1 = None, None\n",
    "    ???\n",
    "    return sim_score"
   ]
  },
  {
   "attachments": {},
   "cell_type": "markdown",
   "metadata": {
    "id": "ar7x7C30cp-B"
   },
   "source": [
    "## Contrastive loss function\n",
    "\n",
    "Here is a simple loss function we can implement. It can be implemented in a way we avoid for-loop and if/else.\n",
    "\n",
    "$$L(y, \\hat{y}) = y (1 - \\hat{y})^2 + (1 - y) \\operatorname{max}^2(\\hat{y} - m, 0)$$\n",
    "\n",
    "Where $\\hat{y} \\in [0,1]$ is the prediction (similarity score) and $y \\in \\{0,1\\}$ is a boolean target."
   ]
  },
  {
   "cell_type": "code",
   "execution_count": null,
   "metadata": {
    "id": "wejBwpltc-9m"
   },
   "outputs": [],
   "source": [
    "def contrastive_loss(predictions_batch, targets_batch, margin=0.20):\n",
    "  targets_batch = targets_batch.float()  # ensure we have floats here\n",
    "  pos_pair =  ????\n",
    "  neg_pair = ???\n",
    "\n",
    "  pos_pair = pos_pair ** 2\n",
    "  neg_pair = neg_pair ** 2\n",
    "\n",
    "  # Note that `targets_batch` acts here as a gate to avoid doing a for-loop and if/else\n",
    "  return torch.mean(pos_pair + neg_pair)"
   ]
  },
  {
   "cell_type": "markdown",
   "metadata": {
    "id": "_cASCB0ld1il"
   },
   "source": [
    "## Fine-tune the network\n",
    "\n",
    "TODO"
   ]
  },
  {
   "cell_type": "code",
   "execution_count": 45,
   "metadata": {
    "id": "cwO-mLAfeDFh"
   },
   "outputs": [],
   "source": [
    "# Code to evaluate the model\n",
    "def eval_model(net, loader, device):\n",
    "  net.eval()\n",
    "  acc, loss = 0., 0.\n",
    "  c = 0\n",
    "  for (x0, x1), gt_simi in loader:\n",
    "    with torch.no_grad():\n",
    "      pred_simi = net((x0.to(device), x1.to(device))).cpu()\n",
    "\n",
    "    loss += contrastive_loss(pred_simi, gt_simi).item()\n",
    "    # We define the accuracy according to an arbitratry threshold of 0.5.\n",
    "    acc += ((pred_simi > 0.5).float() == gt_simi).sum().item()\n",
    "    c += len(x0)\n",
    "\n",
    "  acc /= c\n",
    "  loss /= len(loader)\n",
    "  net.train()\n",
    "  return round(100 * acc, 2), round(loss, 5)"
   ]
  },
  {
   "cell_type": "code",
   "execution_count": null,
   "metadata": {
    "id": "czHGqnxCeNTu"
   },
   "outputs": [],
   "source": [
    "# TODO create a data loader for the validation set\n",
    "loader_val = ???"
   ]
  },
  {
   "cell_type": "code",
   "execution_count": null,
   "metadata": {
    "id": "dNJvpBXVd-yl"
   },
   "outputs": [],
   "source": [
    "# Big training loop\n",
    "import copy\n",
    "net = SiameseNet(new_backbone(device)).to(device)\n",
    "best_model, best_acc = None, 0.0\n",
    "\n",
    "optimizer = torch.optim.Adam(net.parameters(), lr=0.0005)  # low LR\n",
    "\n",
    "val_acc, val_loss = eval_model(net, loader_val, device)\n",
    "print(f\"Random model --> Val loss: {val_loss}, val accuracy: {val_acc}\")\n",
    "epochs = 15\n",
    "margin = 0.0  # no margin at beginning, possible to raise this later\n",
    "\n",
    "for epoch in range(epochs):\n",
    "  losses = 0\n",
    "\n",
    "  for x, y in loader_train:\n",
    "    x0, x1 = x\n",
    "    x0, x1, y = x0.cuda(), x1.cuda(), y.cuda()\n",
    "\n",
    "    optimizer.zero_grad()\n",
    "\n",
    "    pred_simi = net((x0, x1))\n",
    "    loss = contrastive_loss(pred_simi, y, margin=margin)\n",
    "    loss.backward()\n",
    "    optimizer.step()\n",
    "\n",
    "    losses += loss.item()\n",
    "\n",
    "  print(f\"Epoch {epoch}: Train loss: {round(losses / len(loader_train), 5)}\")\n",
    "\n",
    "  val_acc, val_loss = eval_model(net, loader_val)\n",
    "  print(f\"\\tVal loss: {val_loss}, val accuracy: {val_acc}\")\n",
    "\n",
    "  if best_acc <= val_acc:\n",
    "    print(\"\\tCheckpointing!\")\n",
    "    best_acc = val_acc\n",
    "    best_model = copy.deepcopy(net)"
   ]
  },
  {
   "cell_type": "markdown",
   "metadata": {
    "id": "lyYuhTgReZQG"
   },
   "source": [
    "# Deliverable: process the test set\n",
    "\n",
    "The test set has a hidden ground truth\n",
    "You will need to process it by batchs, the trick used to compute the similarity scores for every pair can be reapplied here.\n",
    "You output must be a file named `predictions_test.npy` and must contain a np array of shape (400, ) and dtype bool.\n",
    "If you produced predictions_test.npy with `np.save(\"predictions_test.npy\", predictions_test)`, then predictions_test[ii] must indicate whether the pair ii from the test set represents the same identity (True) or not (False)\n",
    "\n",
    "**DON'T FORGET TO SUBMIT YOUR PREDICTIONS ON MOODLE!**\n",
    "\n",
    "Also, visualize your predictions!\n"
   ]
  }
 ],
 "metadata": {
  "colab": {
   "provenance": [],
   "toc_visible": true
  },
  "kernelspec": {
   "display_name": "Python 3 (ipykernel)",
   "language": "python",
   "name": "python3"
  },
  "language_info": {
   "codemirror_mode": {
    "name": "ipython",
    "version": 3
   },
   "file_extension": ".py",
   "mimetype": "text/x-python",
   "name": "python",
   "nbconvert_exporter": "python",
   "pygments_lexer": "ipython3",
   "version": "3.10.12"
  },
  "widgets": {
   "application/vnd.jupyter.widget-state+json": {
    "122d588ace0a432db8959f6bc67d9c75": {
     "model_module": "@jupyter-widgets/controls",
     "model_module_version": "1.5.0",
     "model_name": "FloatProgressModel",
     "state": {
      "_dom_classes": [],
      "_model_module": "@jupyter-widgets/controls",
      "_model_module_version": "1.5.0",
      "_model_name": "FloatProgressModel",
      "_view_count": null,
      "_view_module": "@jupyter-widgets/controls",
      "_view_module_version": "1.5.0",
      "_view_name": "ProgressView",
      "bar_style": "success",
      "description": "",
      "description_tooltip": null,
      "layout": "IPY_MODEL_768898b895be4bcfa94c2730e6177fd6",
      "max": 111898327,
      "min": 0,
      "orientation": "horizontal",
      "style": "IPY_MODEL_64861f0613984ab0b91863f31bd723fe",
      "value": 111898327
     }
    },
    "5b577623e02a4a67a6b8eda6a79f7667": {
     "model_module": "@jupyter-widgets/base",
     "model_module_version": "1.2.0",
     "model_name": "LayoutModel",
     "state": {
      "_model_module": "@jupyter-widgets/base",
      "_model_module_version": "1.2.0",
      "_model_name": "LayoutModel",
      "_view_count": null,
      "_view_module": "@jupyter-widgets/base",
      "_view_module_version": "1.2.0",
      "_view_name": "LayoutView",
      "align_content": null,
      "align_items": null,
      "align_self": null,
      "border": null,
      "bottom": null,
      "display": null,
      "flex": null,
      "flex_flow": null,
      "grid_area": null,
      "grid_auto_columns": null,
      "grid_auto_flow": null,
      "grid_auto_rows": null,
      "grid_column": null,
      "grid_gap": null,
      "grid_row": null,
      "grid_template_areas": null,
      "grid_template_columns": null,
      "grid_template_rows": null,
      "height": null,
      "justify_content": null,
      "justify_items": null,
      "left": null,
      "margin": null,
      "max_height": null,
      "max_width": null,
      "min_height": null,
      "min_width": null,
      "object_fit": null,
      "object_position": null,
      "order": null,
      "overflow": null,
      "overflow_x": null,
      "overflow_y": null,
      "padding": null,
      "right": null,
      "top": null,
      "visibility": null,
      "width": null
     }
    },
    "64861f0613984ab0b91863f31bd723fe": {
     "model_module": "@jupyter-widgets/controls",
     "model_module_version": "1.5.0",
     "model_name": "ProgressStyleModel",
     "state": {
      "_model_module": "@jupyter-widgets/controls",
      "_model_module_version": "1.5.0",
      "_model_name": "ProgressStyleModel",
      "_view_count": null,
      "_view_module": "@jupyter-widgets/base",
      "_view_module_version": "1.2.0",
      "_view_name": "StyleView",
      "bar_color": null,
      "description_width": ""
     }
    },
    "768898b895be4bcfa94c2730e6177fd6": {
     "model_module": "@jupyter-widgets/base",
     "model_module_version": "1.2.0",
     "model_name": "LayoutModel",
     "state": {
      "_model_module": "@jupyter-widgets/base",
      "_model_module_version": "1.2.0",
      "_model_name": "LayoutModel",
      "_view_count": null,
      "_view_module": "@jupyter-widgets/base",
      "_view_module_version": "1.2.0",
      "_view_name": "LayoutView",
      "align_content": null,
      "align_items": null,
      "align_self": null,
      "border": null,
      "bottom": null,
      "display": null,
      "flex": null,
      "flex_flow": null,
      "grid_area": null,
      "grid_auto_columns": null,
      "grid_auto_flow": null,
      "grid_auto_rows": null,
      "grid_column": null,
      "grid_gap": null,
      "grid_row": null,
      "grid_template_areas": null,
      "grid_template_columns": null,
      "grid_template_rows": null,
      "height": null,
      "justify_content": null,
      "justify_items": null,
      "left": null,
      "margin": null,
      "max_height": null,
      "max_width": null,
      "min_height": null,
      "min_width": null,
      "object_fit": null,
      "object_position": null,
      "order": null,
      "overflow": null,
      "overflow_x": null,
      "overflow_y": null,
      "padding": null,
      "right": null,
      "top": null,
      "visibility": null,
      "width": null
     }
    },
    "7f162d6c92a246158af9abd016732ff9": {
     "model_module": "@jupyter-widgets/controls",
     "model_module_version": "1.5.0",
     "model_name": "HTMLModel",
     "state": {
      "_dom_classes": [],
      "_model_module": "@jupyter-widgets/controls",
      "_model_module_version": "1.5.0",
      "_model_name": "HTMLModel",
      "_view_count": null,
      "_view_module": "@jupyter-widgets/controls",
      "_view_module_version": "1.5.0",
      "_view_name": "HTMLView",
      "description": "",
      "description_tooltip": null,
      "layout": "IPY_MODEL_d009876ce99d400488b19e2c1d2f6261",
      "placeholder": "​",
      "style": "IPY_MODEL_efbef71ee69b43c8a5f53c3aedbedf78",
      "value": "100%"
     }
    },
    "c3488a27b76c44c9a5c2f5d7d6d8f1fc": {
     "model_module": "@jupyter-widgets/controls",
     "model_module_version": "1.5.0",
     "model_name": "DescriptionStyleModel",
     "state": {
      "_model_module": "@jupyter-widgets/controls",
      "_model_module_version": "1.5.0",
      "_model_name": "DescriptionStyleModel",
      "_view_count": null,
      "_view_module": "@jupyter-widgets/base",
      "_view_module_version": "1.2.0",
      "_view_name": "StyleView",
      "description_width": ""
     }
    },
    "c52888054f8548a9a2dd35c9b0385426": {
     "model_module": "@jupyter-widgets/controls",
     "model_module_version": "1.5.0",
     "model_name": "HBoxModel",
     "state": {
      "_dom_classes": [],
      "_model_module": "@jupyter-widgets/controls",
      "_model_module_version": "1.5.0",
      "_model_name": "HBoxModel",
      "_view_count": null,
      "_view_module": "@jupyter-widgets/controls",
      "_view_module_version": "1.5.0",
      "_view_name": "HBoxView",
      "box_style": "",
      "children": [
       "IPY_MODEL_7f162d6c92a246158af9abd016732ff9",
       "IPY_MODEL_122d588ace0a432db8959f6bc67d9c75",
       "IPY_MODEL_e335dc9b94284b51ab87edc72d8071d1"
      ],
      "layout": "IPY_MODEL_f8fe798220fc42dcb6035ac956ec3915"
     }
    },
    "d009876ce99d400488b19e2c1d2f6261": {
     "model_module": "@jupyter-widgets/base",
     "model_module_version": "1.2.0",
     "model_name": "LayoutModel",
     "state": {
      "_model_module": "@jupyter-widgets/base",
      "_model_module_version": "1.2.0",
      "_model_name": "LayoutModel",
      "_view_count": null,
      "_view_module": "@jupyter-widgets/base",
      "_view_module_version": "1.2.0",
      "_view_name": "LayoutView",
      "align_content": null,
      "align_items": null,
      "align_self": null,
      "border": null,
      "bottom": null,
      "display": null,
      "flex": null,
      "flex_flow": null,
      "grid_area": null,
      "grid_auto_columns": null,
      "grid_auto_flow": null,
      "grid_auto_rows": null,
      "grid_column": null,
      "grid_gap": null,
      "grid_row": null,
      "grid_template_areas": null,
      "grid_template_columns": null,
      "grid_template_rows": null,
      "height": null,
      "justify_content": null,
      "justify_items": null,
      "left": null,
      "margin": null,
      "max_height": null,
      "max_width": null,
      "min_height": null,
      "min_width": null,
      "object_fit": null,
      "object_position": null,
      "order": null,
      "overflow": null,
      "overflow_x": null,
      "overflow_y": null,
      "padding": null,
      "right": null,
      "top": null,
      "visibility": null,
      "width": null
     }
    },
    "e335dc9b94284b51ab87edc72d8071d1": {
     "model_module": "@jupyter-widgets/controls",
     "model_module_version": "1.5.0",
     "model_name": "HTMLModel",
     "state": {
      "_dom_classes": [],
      "_model_module": "@jupyter-widgets/controls",
      "_model_module_version": "1.5.0",
      "_model_name": "HTMLModel",
      "_view_count": null,
      "_view_module": "@jupyter-widgets/controls",
      "_view_module_version": "1.5.0",
      "_view_name": "HTMLView",
      "description": "",
      "description_tooltip": null,
      "layout": "IPY_MODEL_5b577623e02a4a67a6b8eda6a79f7667",
      "placeholder": "​",
      "style": "IPY_MODEL_c3488a27b76c44c9a5c2f5d7d6d8f1fc",
      "value": " 107M/107M [00:00&lt;00:00, 141MB/s]"
     }
    },
    "efbef71ee69b43c8a5f53c3aedbedf78": {
     "model_module": "@jupyter-widgets/controls",
     "model_module_version": "1.5.0",
     "model_name": "DescriptionStyleModel",
     "state": {
      "_model_module": "@jupyter-widgets/controls",
      "_model_module_version": "1.5.0",
      "_model_name": "DescriptionStyleModel",
      "_view_count": null,
      "_view_module": "@jupyter-widgets/base",
      "_view_module_version": "1.2.0",
      "_view_name": "StyleView",
      "description_width": ""
     }
    },
    "f8fe798220fc42dcb6035ac956ec3915": {
     "model_module": "@jupyter-widgets/base",
     "model_module_version": "1.2.0",
     "model_name": "LayoutModel",
     "state": {
      "_model_module": "@jupyter-widgets/base",
      "_model_module_version": "1.2.0",
      "_model_name": "LayoutModel",
      "_view_count": null,
      "_view_module": "@jupyter-widgets/base",
      "_view_module_version": "1.2.0",
      "_view_name": "LayoutView",
      "align_content": null,
      "align_items": null,
      "align_self": null,
      "border": null,
      "bottom": null,
      "display": null,
      "flex": null,
      "flex_flow": null,
      "grid_area": null,
      "grid_auto_columns": null,
      "grid_auto_flow": null,
      "grid_auto_rows": null,
      "grid_column": null,
      "grid_gap": null,
      "grid_row": null,
      "grid_template_areas": null,
      "grid_template_columns": null,
      "grid_template_rows": null,
      "height": null,
      "justify_content": null,
      "justify_items": null,
      "left": null,
      "margin": null,
      "max_height": null,
      "max_width": null,
      "min_height": null,
      "min_width": null,
      "object_fit": null,
      "object_position": null,
      "order": null,
      "overflow": null,
      "overflow_x": null,
      "overflow_y": null,
      "padding": null,
      "right": null,
      "top": null,
      "visibility": null,
      "width": null
     }
    }
   }
  }
 },
 "nbformat": 4,
 "nbformat_minor": 4
}
